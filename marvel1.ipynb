{
 "cells": [
  {
   "cell_type": "code",
   "execution_count": 1,
   "id": "8e2e272d-f5bd-419c-90ca-171b766b2b37",
   "metadata": {},
   "outputs": [],
   "source": [
    "import os\n",
    "import sys\n",
    "\n",
    "from pyspark.sql import SparkSession\n",
    "from pyspark.sql.types import StructType, StructField, IntegerType, DoubleType\n",
    "\n",
    "os.environ['PYSPARK_PYTHON'] = sys.executable\n",
    "os.environ['PYSPARK_DRIVER_PYTHON'] = sys.executable\n",
    "\n",
    "spark = SparkSession.builder.appName(\"marvel1\").getOrCreate()\n",
    "spark.conf.set(\"spark.sql.repl.eagerEval.enabled\", True)"
   ]
  },
  {
   "cell_type": "markdown",
   "id": "52221e8b-8e92-47c2-96ed-0e6ecf25b1c3",
   "metadata": {},
   "source": [
    "## Names"
   ]
  },
  {
   "cell_type": "code",
   "execution_count": 9,
   "id": "a3987d1f-cf5a-4f98-8ffc-1c0c34df80fa",
   "metadata": {},
   "outputs": [
    {
     "data": {
      "text/html": [
       "<table border='1'>\n",
       "<tr><th>id</th><th>name</th></tr>\n",
       "<tr><td>1</td><td>24-HOUR MAN/EMMANUEL</td></tr>\n",
       "<tr><td>2</td><td>3-D MAN/CHARLES CHAN</td></tr>\n",
       "<tr><td>3</td><td>4-D MAN/MERCURIO</td></tr>\n",
       "<tr><td>4</td><td>8-BALL/</td></tr>\n",
       "<tr><td>5</td><td>A</td></tr>\n",
       "<tr><td>6</td><td>A'YIN</td></tr>\n",
       "<tr><td>7</td><td>ABBOTT, JACK</td></tr>\n",
       "<tr><td>8</td><td>ABCISSA</td></tr>\n",
       "<tr><td>9</td><td>ABEL</td></tr>\n",
       "<tr><td>10</td><td>ABOMINATION/EMIL BLO</td></tr>\n",
       "<tr><td>11</td><td>ABOMINATION | MUTANT</td></tr>\n",
       "<tr><td>12</td><td>ABOMINATRIX</td></tr>\n",
       "<tr><td>13</td><td>ABRAXAS</td></tr>\n",
       "<tr><td>14</td><td>ADAM 3,031</td></tr>\n",
       "<tr><td>15</td><td>ABSALOM</td></tr>\n",
       "<tr><td>16</td><td>ABSORBING MAN/CARL C</td></tr>\n",
       "<tr><td>17</td><td>ABSORBING MAN | MUTA</td></tr>\n",
       "<tr><td>18</td><td>ACBA</td></tr>\n",
       "<tr><td>19</td><td>ACHEBE, REVEREND DOC</td></tr>\n",
       "<tr><td>20</td><td>ACHILLES</td></tr>\n",
       "</table>\n",
       "only showing top 20 rows\n"
      ],
      "text/plain": [
       "+---+--------------------+\n",
       "| id|                name|\n",
       "+---+--------------------+\n",
       "|  1|24-HOUR MAN/EMMANUEL|\n",
       "|  2|3-D MAN/CHARLES CHAN|\n",
       "|  3|    4-D MAN/MERCURIO|\n",
       "|  4|             8-BALL/|\n",
       "|  5|                   A|\n",
       "|  6|               A'YIN|\n",
       "|  7|        ABBOTT, JACK|\n",
       "|  8|             ABCISSA|\n",
       "|  9|                ABEL|\n",
       "| 10|ABOMINATION/EMIL BLO|\n",
       "| 11|ABOMINATION | MUTANT|\n",
       "| 12|         ABOMINATRIX|\n",
       "| 13|             ABRAXAS|\n",
       "| 14|          ADAM 3,031|\n",
       "| 15|             ABSALOM|\n",
       "| 16|ABSORBING MAN/CARL C|\n",
       "| 17|ABSORBING MAN | MUTA|\n",
       "| 18|                ACBA|\n",
       "| 19|ACHEBE, REVEREND DOC|\n",
       "| 20|            ACHILLES|\n",
       "+---+--------------------+\n",
       "only showing top 20 rows"
      ]
     },
     "execution_count": 9,
     "metadata": {},
     "output_type": "execute_result"
    }
   ],
   "source": [
    "from pyspark.sql import SparkSession\n",
    "from pyspark.sql.types import StructType, StructField, IntegerType, StringType\n",
    "\n",
    "names_schema = StructType([StructField(\"id\", IntegerType(), False),\n",
    "                           StructField(\"name\", StringType(), False)\n",
    "                          ]);\n",
    "df_names = spark.read.schema(names_schema).option(\"delimiter\", \" \").csv(\"marvel_names.txt\")\n",
    "df_names.createOrReplaceTempView(\"names\")\n",
    "df_names"
   ]
  },
  {
   "cell_type": "markdown",
   "id": "84aa77a5-c1ac-4dac-aba5-0f1d863b8331",
   "metadata": {},
   "source": [
    "## Graph"
   ]
  },
  {
   "cell_type": "code",
   "execution_count": 11,
   "id": "70b06e24-8bf2-4a9e-b78d-da2623389dbc",
   "metadata": {},
   "outputs": [
    {
     "data": {
      "text/html": [
       "<table border='1'>\n",
       "<tr><th>value</th></tr>\n",
       "<tr><td>5988 748 1722 375...</td></tr>\n",
       "<tr><td>5989 4080 4264 44...</td></tr>\n",
       "<tr><td>5982 217 595 1194...</td></tr>\n",
       "<tr><td>5983 1165 3836 43...</td></tr>\n",
       "<tr><td>5980 2731 3712 15...</td></tr>\n",
       "<tr><td>5981 3569 5353 40...</td></tr>\n",
       "<tr><td>5986 2658 3712 26...</td></tr>\n",
       "<tr><td>5987 2614 5716 17...</td></tr>\n",
       "<tr><td>5984 590 4898 745...</td></tr>\n",
       "<tr><td>5985 3233 2254 21...</td></tr>\n",
       "<tr><td>6294 4898 1127 32...</td></tr>\n",
       "<tr><td>270 2658 3003 380...</td></tr>\n",
       "<tr><td>271 4935 5716 430...</td></tr>\n",
       "<tr><td>272 2717 4363 408...</td></tr>\n",
       "<tr><td>273 1165 5013 511...</td></tr>\n",
       "<tr><td>274 3920 5310 402...</td></tr>\n",
       "<tr><td>275 4366 3373 158...</td></tr>\n",
       "<tr><td>276 2277 5251 480...</td></tr>\n",
       "<tr><td>277 1068 3495 619...</td></tr>\n",
       "<tr><td>278 1145 667 2650...</td></tr>\n",
       "</table>\n",
       "only showing top 20 rows\n"
      ],
      "text/plain": [
       "+--------------------+\n",
       "|               value|\n",
       "+--------------------+\n",
       "|5988 748 1722 375...|\n",
       "|5989 4080 4264 44...|\n",
       "|5982 217 595 1194...|\n",
       "|5983 1165 3836 43...|\n",
       "|5980 2731 3712 15...|\n",
       "|5981 3569 5353 40...|\n",
       "|5986 2658 3712 26...|\n",
       "|5987 2614 5716 17...|\n",
       "|5984 590 4898 745...|\n",
       "|5985 3233 2254 21...|\n",
       "|6294 4898 1127 32...|\n",
       "|270 2658 3003 380...|\n",
       "|271 4935 5716 430...|\n",
       "|272 2717 4363 408...|\n",
       "|273 1165 5013 511...|\n",
       "|274 3920 5310 402...|\n",
       "|275 4366 3373 158...|\n",
       "|276 2277 5251 480...|\n",
       "|277 1068 3495 619...|\n",
       "|278 1145 667 2650...|\n",
       "+--------------------+\n",
       "only showing top 20 rows"
      ]
     },
     "execution_count": 11,
     "metadata": {},
     "output_type": "execute_result"
    }
   ],
   "source": [
    "df = spark.read.text(\"marvel_graph.txt\")\n",
    "df.createOrReplaceTempView(\"vector\")\n",
    "df"
   ]
  },
  {
   "cell_type": "code",
   "execution_count": 39,
   "id": "482562f9-3d5d-4fe0-96c2-8c227cd2a661",
   "metadata": {},
   "outputs": [
    {
     "data": {
      "text/html": [
       "<table border='1'>\n",
       "<tr><th>hero_id</th><th>rank</th></tr>\n",
       "<tr><td>467</td><td>1</td></tr>\n",
       "<tr><td>577</td><td>1</td></tr>\n",
       "<tr><td>835</td><td>1</td></tr>\n",
       "<tr><td>1089</td><td>1</td></tr>\n",
       "<tr><td>1408</td><td>1</td></tr>\n",
       "<tr><td>1841</td><td>1</td></tr>\n",
       "<tr><td>2117</td><td>1</td></tr>\n",
       "<tr><td>2139</td><td>1</td></tr>\n",
       "<tr><td>2911</td><td>1</td></tr>\n",
       "<tr><td>3014</td><td>1</td></tr>\n",
       "<tr><td>3298</td><td>1</td></tr>\n",
       "<tr><td>3489</td><td>1</td></tr>\n",
       "<tr><td>3490</td><td>1</td></tr>\n",
       "<tr><td>4517</td><td>1</td></tr>\n",
       "<tr><td>4602</td><td>1</td></tr>\n",
       "<tr><td>4784</td><td>1</td></tr>\n",
       "<tr><td>4945</td><td>1</td></tr>\n",
       "<tr><td>5028</td><td>1</td></tr>\n",
       "<tr><td>6411</td><td>1</td></tr>\n",
       "<tr><td>306</td><td>2</td></tr>\n",
       "</table>\n",
       "only showing top 20 rows\n"
      ],
      "text/plain": [
       "+-------+----+\n",
       "|hero_id|rank|\n",
       "+-------+----+\n",
       "|    467|   1|\n",
       "|    577|   1|\n",
       "|    835|   1|\n",
       "|   1089|   1|\n",
       "|   1408|   1|\n",
       "|   1841|   1|\n",
       "|   2117|   1|\n",
       "|   2139|   1|\n",
       "|   2911|   1|\n",
       "|   3014|   1|\n",
       "|   3298|   1|\n",
       "|   3489|   1|\n",
       "|   3490|   1|\n",
       "|   4517|   1|\n",
       "|   4602|   1|\n",
       "|   4784|   1|\n",
       "|   4945|   1|\n",
       "|   5028|   1|\n",
       "|   6411|   1|\n",
       "|    306|   2|\n",
       "+-------+----+\n",
       "only showing top 20 rows"
      ]
     },
     "execution_count": 39,
     "metadata": {},
     "output_type": "execute_result"
    }
   ],
   "source": [
    "spark.sql(\"\"\"\n",
    "\n",
    "with line_tab as (\n",
    "  select value as line\n",
    "    from vector\n",
    "),\n",
    "\n",
    "array_tab as (\n",
    "  select split(line, \" \") as array\n",
    "    from line_tab\n",
    "),\n",
    "\n",
    "heros_rank as (\n",
    "  select int(element_at(array, 1)) as hero_id, \n",
    "         sum(array_size(array) - 1) as rank\n",
    "    from array_tab\n",
    "   group by hero_id\n",
    "   order by rank, hero_id\n",
    ")\n",
    "\n",
    "select *    \n",
    "  from heros_rank\n",
    "\n",
    "\"\"\")"
   ]
  },
  {
   "cell_type": "code",
   "execution_count": 48,
   "id": "7ac0b022-dce1-4b0c-9069-237b7b44ab6f",
   "metadata": {},
   "outputs": [
    {
     "data": {
      "text/html": [
       "<table border='1'>\n",
       "<tr><th>id</th><th>name</th><th>cnt</th></tr>\n",
       "<tr><td>467</td><td>BERSERKER II</td><td>1</td></tr>\n",
       "<tr><td>577</td><td>BLARE/</td><td>1</td></tr>\n",
       "<tr><td>835</td><td>CALLAHAN, DANNY</td><td>1</td></tr>\n",
       "<tr><td>1089</td><td>CLUMSY FOULUP</td><td>1</td></tr>\n",
       "<tr><td>1408</td><td>DEATHCHARGE</td><td>1</td></tr>\n",
       "<tr><td>1841</td><td>FENRIS</td><td>1</td></tr>\n",
       "<tr><td>2117</td><td>GERVASE, LADY ALYSSA</td><td>1</td></tr>\n",
       "<tr><td>2139</td><td>GIURESCU, RADU</td><td>1</td></tr>\n",
       "<tr><td>2911</td><td>KULL</td><td>1</td></tr>\n",
       "<tr><td>3014</td><td>JOHNSON, LYNDON BAIN</td><td>1</td></tr>\n",
       "<tr><td>3298</td><td>LUNATIK II</td><td>1</td></tr>\n",
       "<tr><td>3489</td><td>MARVEL BOY/MARTIN BU</td><td>1</td></tr>\n",
       "<tr><td>3490</td><td>MARVEL BOY II/MARTIN</td><td>1</td></tr>\n",
       "<tr><td>4517</td><td>RANDAK</td><td>1</td></tr>\n",
       "<tr><td>4602</td><td>RED WOLF II</td><td>1</td></tr>\n",
       "<tr><td>4784</td><td>RUNE</td><td>1</td></tr>\n",
       "<tr><td>4945</td><td>SEA LEOPARD</td><td>1</td></tr>\n",
       "<tr><td>5028</td><td>SHARKSKIN</td><td>1</td></tr>\n",
       "<tr><td>6411</td><td>ZANTOR</td><td>1</td></tr>\n",
       "</table>\n"
      ],
      "text/plain": [
       "+----+--------------------+---+\n",
       "|  id|                name|cnt|\n",
       "+----+--------------------+---+\n",
       "| 467|        BERSERKER II|  1|\n",
       "| 577|              BLARE/|  1|\n",
       "| 835|     CALLAHAN, DANNY|  1|\n",
       "|1089|       CLUMSY FOULUP|  1|\n",
       "|1408|         DEATHCHARGE|  1|\n",
       "|1841|              FENRIS|  1|\n",
       "|2117|GERVASE, LADY ALYSSA|  1|\n",
       "|2139|      GIURESCU, RADU|  1|\n",
       "|2911|                KULL|  1|\n",
       "|3014|JOHNSON, LYNDON BAIN|  1|\n",
       "|3298|          LUNATIK II|  1|\n",
       "|3489|MARVEL BOY/MARTIN BU|  1|\n",
       "|3490|MARVEL BOY II/MARTIN|  1|\n",
       "|4517|              RANDAK|  1|\n",
       "|4602|         RED WOLF II|  1|\n",
       "|4784|                RUNE|  1|\n",
       "|4945|         SEA LEOPARD|  1|\n",
       "|5028|           SHARKSKIN|  1|\n",
       "|6411|              ZANTOR|  1|\n",
       "+----+--------------------+---+"
      ]
     },
     "execution_count": 48,
     "metadata": {},
     "output_type": "execute_result"
    }
   ],
   "source": [
    "spark.sql(\"\"\"\n",
    "\n",
    "with line_tab as (\n",
    "  select value as line\n",
    "    from vector\n",
    "),\n",
    "\n",
    "array_tab as (\n",
    "  select split(line, \" \") as array\n",
    "    from line_tab\n",
    "),\n",
    "\n",
    "heros_rank as (\n",
    "  select int(element_at(array, 1)) as hero_id, \n",
    "         sum(array_size(array) - 1) as cnt\n",
    "    from array_tab\n",
    "   group by hero_id\n",
    "),\n",
    "\n",
    "minimum (\n",
    "  select min(cnt) as value\n",
    "    from heros_rank\n",
    ")\n",
    "\n",
    " select id, name, cnt\n",
    "   from heros_rank\n",
    "   join minimum\n",
    "   join names\n",
    "     on hero_id = id\n",
    "  where cnt = minimum.value\n",
    "  order by hero_id\n",
    "\n",
    "\"\"\")"
   ]
  },
  {
   "cell_type": "code",
   "execution_count": null,
   "id": "5f127c2b-48ea-4e72-a7b5-abba7432b47e",
   "metadata": {},
   "outputs": [],
   "source": []
  }
 ],
 "metadata": {
  "kernelspec": {
   "display_name": "Python 3 (ipykernel)",
   "language": "python",
   "name": "python3"
  },
  "language_info": {
   "codemirror_mode": {
    "name": "ipython",
    "version": 3
   },
   "file_extension": ".py",
   "mimetype": "text/x-python",
   "name": "python",
   "nbconvert_exporter": "python",
   "pygments_lexer": "ipython3",
   "version": "3.10.11"
  }
 },
 "nbformat": 4,
 "nbformat_minor": 5
}
