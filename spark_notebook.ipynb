{
 "cells": [
  {
   "cell_type": "code",
   "execution_count": 1,
   "id": "26e4fb72-807d-4968-a504-c967953fc859",
   "metadata": {},
   "outputs": [],
   "source": [
    "import os\n",
    "import sys\n",
    "\n",
    "from pyspark.sql import SparkSession\n",
    "from pyspark.sql.types import StructType, StructField, IntegerType, DoubleType\n",
    "\n",
    "os.environ['PYSPARK_PYTHON'] = sys.executable\n",
    "os.environ['PYSPARK_DRIVER_PYTHON'] = sys.executable\n",
    "\n",
    "spark = SparkSession.builder.appName(\"word-count-sql\").getOrCreate()\n",
    "spark.conf.set(\"spark.sql.repl.eagerEval.enabled\", True)"
   ]
  },
  {
   "cell_type": "code",
   "execution_count": 2,
   "id": "d165ab2b-0466-4221-b4fc-4ed2e8c2346b",
   "metadata": {},
   "outputs": [],
   "source": [
    "df = spark.read.text(\"book.txt\")"
   ]
  },
  {
   "cell_type": "code",
   "execution_count": 3,
   "id": "e7ecd30e-b49c-45c3-ae11-ba3037c7d443",
   "metadata": {},
   "outputs": [],
   "source": [
    "df.createOrReplaceTempView(\"lines\")"
   ]
  },
  {
   "cell_type": "code",
   "execution_count": 7,
   "id": "3855be18-361f-4741-82c4-839eb10c9526",
   "metadata": {},
   "outputs": [
    {
     "name": "stdout",
     "output_type": "stream",
     "text": [
      "+--------------------+\n",
      "|split(value, W+, -1)|\n",
      "+--------------------+\n",
      "|[Self-Employment:...|\n",
      "|[Achieving Financ...|\n",
      "|     [By Frank Kane]|\n",
      "|                  []|\n",
      "|                  []|\n",
      "|                  []|\n",
      "|[Copyright � 2015...|\n",
      "|[All rights reser...|\n",
      "|                  []|\n",
      "|                  []|\n",
      "|          [CONTENTS]|\n",
      "|        [Disclaimer]|\n",
      "|           [Preface]|\n",
      "|[Part I: Making t...|\n",
      "|[Overcoming Inertia]|\n",
      "|   [Fear of Failure]|\n",
      "|[Career Indoctrin...|\n",
      "|[The Carrot on a ...|\n",
      "|    [Ego Protection]|\n",
      "|[Your Employer as...|\n",
      "+--------------------+\n",
      "only showing top 20 rows\n",
      "\n"
     ]
    }
   ],
   "source": [
    "spark.sql(\"\"\"\n",
    "select split(value, \"\\\\W+\")\n",
    "  from lines\n",
    "\"\"\").show()"
   ]
  },
  {
   "cell_type": "code",
   "execution_count": 8,
   "id": "8f7e2072-1d60-4624-957d-44912cf33530",
   "metadata": {},
   "outputs": [],
   "source": [
    "spark.conf.set(\"spark.sql.repl.eagerEval.enabled\", True)"
   ]
  },
  {
   "cell_type": "code",
   "execution_count": 9,
   "id": "72bb11ef-abea-4229-8485-c1464c1e39e2",
   "metadata": {},
   "outputs": [
    {
     "data": {
      "text/html": [
       "<table border='1'>\n",
       "<tr><th>array</th></tr>\n",
       "<tr><td>[Self-Employment:...</td></tr>\n",
       "<tr><td>[Achieving Financ...</td></tr>\n",
       "<tr><td>[By Frank Kane]</td></tr>\n",
       "<tr><td>[]</td></tr>\n",
       "<tr><td>[]</td></tr>\n",
       "<tr><td>[]</td></tr>\n",
       "<tr><td>[Copyright � 2015...</td></tr>\n",
       "<tr><td>[All rights reser...</td></tr>\n",
       "<tr><td>[]</td></tr>\n",
       "<tr><td>[]</td></tr>\n",
       "<tr><td>[CONTENTS]</td></tr>\n",
       "<tr><td>[Disclaimer]</td></tr>\n",
       "<tr><td>[Preface]</td></tr>\n",
       "<tr><td>[Part I: Making t...</td></tr>\n",
       "<tr><td>[Overcoming Inertia]</td></tr>\n",
       "<tr><td>[Fear of Failure]</td></tr>\n",
       "<tr><td>[Career Indoctrin...</td></tr>\n",
       "<tr><td>[The Carrot on a ...</td></tr>\n",
       "<tr><td>[Ego Protection]</td></tr>\n",
       "<tr><td>[Your Employer as...</td></tr>\n",
       "</table>\n",
       "only showing top 20 rows\n"
      ],
      "text/plain": [
       "+--------------------+\n",
       "|               array|\n",
       "+--------------------+\n",
       "|[Self-Employment:...|\n",
       "|[Achieving Financ...|\n",
       "|     [By Frank Kane]|\n",
       "|                  []|\n",
       "|                  []|\n",
       "|                  []|\n",
       "|[Copyright � 2015...|\n",
       "|[All rights reser...|\n",
       "|                  []|\n",
       "|                  []|\n",
       "|          [CONTENTS]|\n",
       "|        [Disclaimer]|\n",
       "|           [Preface]|\n",
       "|[Part I: Making t...|\n",
       "|[Overcoming Inertia]|\n",
       "|   [Fear of Failure]|\n",
       "|[Career Indoctrin...|\n",
       "|[The Carrot on a ...|\n",
       "|    [Ego Protection]|\n",
       "|[Your Employer as...|\n",
       "+--------------------+\n",
       "only showing top 20 rows"
      ]
     },
     "execution_count": 9,
     "metadata": {},
     "output_type": "execute_result"
    }
   ],
   "source": [
    "spark.sql(\"\"\"\n",
    "select split(value, \"\\\\W+\") as array\n",
    "  from lines\n",
    "\"\"\")"
   ]
  },
  {
   "cell_type": "code",
   "execution_count": 16,
   "id": "c45ff4c4-8219-4205-bf88-a2184ba81796",
   "metadata": {},
   "outputs": [
    {
     "data": {
      "text/html": [
       "<table border='1'>\n",
       "<tr><th>word</th></tr>\n",
       "<tr><td>10</td></tr>\n",
       "<tr><td>20</td></tr>\n",
       "</table>\n"
      ],
      "text/plain": [
       "+----+\n",
       "|word|\n",
       "+----+\n",
       "|  10|\n",
       "|  20|\n",
       "+----+"
      ]
     },
     "execution_count": 16,
     "metadata": {},
     "output_type": "execute_result"
    }
   ],
   "source": [
    "spark.sql(\"\"\"\n",
    "select explode(array(10, 20)) as word\n",
    "\"\"\")"
   ]
  },
  {
   "cell_type": "code",
   "execution_count": 49,
   "id": "a9bf1b77-2f0c-4e16-86e1-57102dcb82cc",
   "metadata": {},
   "outputs": [
    {
     "data": {
      "text/plain": [
       "'false'"
      ]
     },
     "execution_count": 49,
     "metadata": {},
     "output_type": "execute_result"
    }
   ],
   "source": [
    "spark.conf.get('spark.sql.parser.escapedStringLiterals')"
   ]
  },
  {
   "cell_type": "code",
   "execution_count": 48,
   "id": "390b03a0-925a-4a67-885b-1662fdbec82f",
   "metadata": {},
   "outputs": [
    {
     "data": {
      "text/html": [
       "<table border='1'>\n",
       "<tr><th>split(ala 5ma 4kora, \\W+, -1)</th></tr>\n",
       "<tr><td>[ala, 5ma, 4kora]</td></tr>\n",
       "</table>\n"
      ],
      "text/plain": [
       "+-----------------------------+\n",
       "|split(ala 5ma 4kora, \\W+, -1)|\n",
       "+-----------------------------+\n",
       "|            [ala, 5ma, 4kora]|\n",
       "+-----------------------------+"
      ]
     },
     "execution_count": 48,
     "metadata": {},
     "output_type": "execute_result"
    }
   ],
   "source": [
    "spark.sql(\"\"\"\n",
    "SELECT split('ala 5ma 4kora', '\\\\\\\\W+')\n",
    "\"\"\")"
   ]
  },
  {
   "cell_type": "code",
   "execution_count": 53,
   "id": "ca301252-f9c2-4a6d-8ab1-451803c7bde0",
   "metadata": {},
   "outputs": [
    {
     "data": {
      "text/html": [
       "<table border='1'>\n",
       "<tr><th>word</th><th>count</th></tr>\n",
       "<tr><td>you</td><td>1878</td></tr>\n",
       "<tr><td>to</td><td>1828</td></tr>\n",
       "<tr><td>your</td><td>1420</td></tr>\n",
       "<tr><td>the</td><td>1292</td></tr>\n",
       "<tr><td>a</td><td>1191</td></tr>\n",
       "<tr><td>of</td><td>970</td></tr>\n",
       "<tr><td>and</td><td>934</td></tr>\n",
       "<tr><td>that</td><td>747</td></tr>\n",
       "<tr><td>it</td><td>649</td></tr>\n",
       "<tr><td>in</td><td>616</td></tr>\n",
       "<tr><td>is</td><td>560</td></tr>\n",
       "<tr><td>for</td><td>537</td></tr>\n",
       "<tr><td>on</td><td>428</td></tr>\n",
       "<tr><td>are</td><td>424</td></tr>\n",
       "<tr><td>if</td><td>411</td></tr>\n",
       "<tr><td>s</td><td>391</td></tr>\n",
       "<tr><td>i</td><td>387</td></tr>\n",
       "<tr><td>business</td><td>383</td></tr>\n",
       "<tr><td>can</td><td>376</td></tr>\n",
       "<tr><td>be</td><td>369</td></tr>\n",
       "</table>\n",
       "only showing top 20 rows\n"
      ],
      "text/plain": [
       "+--------+-----+\n",
       "|    word|count|\n",
       "+--------+-----+\n",
       "|     you| 1878|\n",
       "|      to| 1828|\n",
       "|    your| 1420|\n",
       "|     the| 1292|\n",
       "|       a| 1191|\n",
       "|      of|  970|\n",
       "|     and|  934|\n",
       "|    that|  747|\n",
       "|      it|  649|\n",
       "|      in|  616|\n",
       "|      is|  560|\n",
       "|     for|  537|\n",
       "|      on|  428|\n",
       "|     are|  424|\n",
       "|      if|  411|\n",
       "|       s|  391|\n",
       "|       i|  387|\n",
       "|business|  383|\n",
       "|     can|  376|\n",
       "|      be|  369|\n",
       "+--------+-----+\n",
       "only showing top 20 rows"
      ]
     },
     "execution_count": 53,
     "metadata": {},
     "output_type": "execute_result"
    }
   ],
   "source": [
    "spark.sql(\"\"\"\n",
    "with words as (\n",
    "  select explode(split(lower(value), '\\\\\\\\W+')) as word\n",
    "    from lines\n",
    "), \n",
    "\n",
    "trimmed as (\n",
    "  select trim(word) as word\n",
    "    from words\n",
    "   where trim(word) != ''\n",
    ")\n",
    "\n",
    "select word, count(*) as count\n",
    "  from trimmed\n",
    " group by word\n",
    " order by count(*) desc\n",
    "\"\"\")"
   ]
  },
  {
   "cell_type": "code",
   "execution_count": null,
   "id": "2b63172b-d280-47db-bf6a-33e44a2e4a84",
   "metadata": {},
   "outputs": [],
   "source": []
  }
 ],
 "metadata": {
  "kernelspec": {
   "display_name": "Python 3 (ipykernel)",
   "language": "python",
   "name": "python3"
  },
  "language_info": {
   "codemirror_mode": {
    "name": "ipython",
    "version": 3
   },
   "file_extension": ".py",
   "mimetype": "text/x-python",
   "name": "python",
   "nbconvert_exporter": "python",
   "pygments_lexer": "ipython3",
   "version": "3.10.11"
  }
 },
 "nbformat": 4,
 "nbformat_minor": 5
}
